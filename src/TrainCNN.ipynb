{
 "cells": [
  {
   "cell_type": "code",
   "execution_count": 4,
   "id": "3df2d414",
   "metadata": {},
   "outputs": [],
   "source": [
    "try:\n",
    "  # Try to mount drive when working on colab\n",
    "  from google.colab import drive\n",
    "except:\n",
    "  # Do nothing in case of exception\n",
    "  pass\n",
    "else:\n",
    "  # Clone and repository and install the deep_nn_odes module\n",
    "  drive.mount('/content/drive',force_remount=True)\n",
    "  !rm -rf deep_nn_odes\n",
    "  !git clone https://github.com/eikehmueller/deep_nn_odes.git\n",
    "  %cd deep_nn_odes\n",
    "  !git checkout CNNs\n",
    "  !python3 -m pip install .\n",
    "  # Download CIFAR10 data and unpack it\n",
    "  !wget https://www.cs.toronto.edu/~kriz/cifar-10-python.tar.gz\n",
    "  !mkdir data; tar xzvf cifar-10-python.tar.gz -C data\n",
    "  # Change to src directory\n",
    "  %cd src\n",
    "\n",
    "import pickle\n",
    "import json\n",
    "import jax\n",
    "from jax import numpy as jnp\n",
    "from matplotlib import pyplot as plt\n",
    "import optax\n",
    "from deep_nn_odes.image_dataset_loader import MNISTDatasetLoader, CIFAR10DatasetLoader\n",
    "from deep_nn_odes.cnn_model import init_resnet_parameters, resnet_model\n",
    "\n",
    "%matplotlib inline"
   ]
  },
  {
   "cell_type": "code",
   "execution_count": 5,
   "id": "e15fb04d",
   "metadata": {},
   "outputs": [],
   "source": [
    "def fit(model, params, optimizer, image_dataset_loader, batch_size=128, nepoch=10):\n",
    "    \"\"\"Fit the CNN classifier using cross-entropy loss\n",
    "\n",
    "    :arg model: the model to fit\n",
    "    :arg params: fit parameters\n",
    "    :arg optimizer: optimizer\n",
    "    :arg image_dataset_loader: loader for image dataset\n",
    "    :arg batch_size: size of training batches\n",
    "    :arg nepoch: number of epochs\n",
    "    \"\"\"\n",
    "    from collections import defaultdict\n",
    "\n",
    "    opt_state = optimizer.init(params)\n",
    "\n",
    "    def accuracy(params, model_state, x, y):\n",
    "        \"\"\"Compute accuracy, i.e. fraction of correct predictions\n",
    "        in a minibatch\n",
    "\n",
    "        :arg params: model parameters\n",
    "        :arg model: model\n",
    "        :arg x: minibatch of input images\n",
    "        :arg y: minibatch of labels\n",
    "        \"\"\"\n",
    "        y_pred = model(params, model_state, x)\n",
    "        n_total = y.shape[0]\n",
    "        n_correct = jnp.sum(1 * (jnp.argmax(jax.nn.softmax(y_pred), axis=-1) == y))\n",
    "        return n_correct / n_total\n",
    "\n",
    "    def loss(params, model_state, x, y):\n",
    "        \"\"\"Cross-entropy loss function\n",
    "\n",
    "        :arg params: model parameters\n",
    "        :arg model: model\n",
    "        :arg x: minibatch of input images\n",
    "        :arg y: minibatch of labels\n",
    "        \"\"\"\n",
    "        logits = model(params, model_state, x)\n",
    "        return optax.softmax_cross_entropy_with_integer_labels(logits, y).mean()\n",
    "\n",
    "    @jax.jit\n",
    "    def step(params, model_state, opt_state, X_batch, y_batch):\n",
    "        \"\"\"Single update step\"\"\"\n",
    "        loss_value, grads = jax.value_and_grad(loss)(\n",
    "            params, model_state, X_batch, y_batch\n",
    "        )\n",
    "        acc_value = accuracy(params, model_state, X_batch, y_batch)\n",
    "        updates, opt_state = optimizer.update(grads, opt_state)\n",
    "        params = optax.apply_updates(params, updates)\n",
    "        return params, model_state, opt_state, loss_value, acc_value\n",
    "\n",
    "    X_valid, y_valid = image_dataset_loader.get_validation_data()\n",
    "    metrics = defaultdict(list)\n",
    "    rngkey = jax.random.PRNGKey(seed=37)\n",
    "    # CNN model state for training with dropout\n",
    "    train_state = dict(rngkey=rngkey, train=True)\n",
    "    # CNN model state for validation with dropout disabled\n",
    "    valid_state = dict(rngkey=rngkey, train=False)\n",
    "    # Loop over epochs\n",
    "    for epoch in range(nepoch):\n",
    "        acc_train = 0.0\n",
    "        # iterate over all batches\n",
    "        for n, (X_batch, y_batch) in enumerate(\n",
    "            zip(*image_dataset_loader.get_shuffled_batched_train_data(batch_size))\n",
    "        ):\n",
    "            params, train_state, opt_state, loss_train, acc_batch = step(\n",
    "                params, train_state, opt_state, X_batch, y_batch\n",
    "            )\n",
    "            # Update the rolling sum of the training accuracy\n",
    "            acc_train += (acc_batch - acc_train) / (n + 1)\n",
    "        # compute loss and accuracy on validation data\n",
    "        loss_valid = loss(params, valid_state, X_valid, y_valid)\n",
    "        acc_valid = accuracy(params, valid_state, X_valid, y_valid)\n",
    "        print(f\"**** epoch {(epoch+1):4d} of {nepoch:4d} ****\")\n",
    "        print(f\"                loss = {loss_train:8.3e}  accuracy = {acc_train:8.3f}\")\n",
    "        print(f\"     validation loss = {loss_valid:8.3e}  accuracy = {acc_valid:8.3f}\")\n",
    "        print(\"\")\n",
    "        # Update metrics\n",
    "        metrics[\"loss_train\"].append(float(loss_train))\n",
    "        metrics[\"loss_valid\"].append(float(loss_valid))\n",
    "        metrics[\"acc_train\"].append(float(acc_train))\n",
    "        metrics[\"acc_valid\"].append(float(acc_valid))\n",
    "    return params, metrics\n"
   ]
  },
  {
   "attachments": {},
   "cell_type": "markdown",
   "id": "c66bbb3f",
   "metadata": {},
   "source": [
    "## Train network\n",
    "Edit the hyperparameters in the following cell and run it to train with the `fit()` function defined in the previous cell."
   ]
  },
  {
   "cell_type": "code",
   "execution_count": null,
   "id": "ebb670b4",
   "metadata": {},
   "outputs": [],
   "source": [
    "# batch size\n",
    "batch_size = 128\n",
    "# number of epochs\n",
    "nepoch = 500\n",
    "# Optimizer hyperparameters\n",
    "learning_rate = 1.0e-3\n",
    "\n",
    "dataset_loader = CIFAR10DatasetLoader(validation_split=0.1, normalise_images=True)\n",
    "params = init_resnet_parameters(\n",
    "    input_channels=dataset_loader.n_channels, n_categories=dataset_loader.n_categories\n",
    ")\n",
    "nparam = sum([x.size for x in jax.tree_util.tree_flatten(params)[0]])\n",
    "print (\"Number of model parameters = \",nparam)\n",
    "\n",
    "optimizer = optax.adam(learning_rate)\n",
    "\n",
    "params, metrics = fit(\n",
    "    resnet_model, params, optimizer, dataset_loader, batch_size=batch_size, nepoch=nepoch\n",
    ")"
   ]
  },
  {
   "attachments": {},
   "cell_type": "markdown",
   "id": "78ae5b0f",
   "metadata": {},
   "source": [
    "## Save the weights and training metrics\n",
    "Edit the names of the filenames if you want to save under a different name."
   ]
  },
  {
   "cell_type": "code",
   "execution_count": null,
   "id": "479c0c1a",
   "metadata": {},
   "outputs": [],
   "source": [
    "# Save weights and training metrics\n",
    "with open(\"weights.npy\", \"wb\") as f:\n",
    "    pickle.dump(params, f)\n",
    "with open(\"metrics.json\", \"w\", encoding=\"utf8\") as f:\n",
    "    json.dump(metrics, f, indent=4)\n"
   ]
  },
  {
   "attachments": {},
   "cell_type": "markdown",
   "id": "5a5e505b",
   "metadata": {},
   "source": [
    "## Visualise training metrics\n",
    "The following cell will load the training metrics (loss and accuracy) from disk and visualise them as a function of the epoch. Edit the filename if you want to load the metrics from a different training run."
   ]
  },
  {
   "cell_type": "code",
   "execution_count": 7,
   "id": "a738c7a2",
   "metadata": {},
   "outputs": [
    {
     "data": {
      "text/plain": [
       "<matplotlib.legend.Legend at 0x12a9e8700>"
      ]
     },
     "execution_count": 7,
     "metadata": {},
     "output_type": "execute_result"
    },
    {
     "data": {
      "image/png": "[encoded data removed]",
      "text/plain": [
       "<Figure size 864x432 with 2 Axes>"
      ]
     },
     "metadata": {
      "needs_background": "light"
     },
     "output_type": "display_data"
    }
   ],
   "source": [
    "# Load metrics from disk\n",
    "with open(\"metrics_19Dec2022.json\",\"r\",encoding=\"utf\") as f:\n",
    "    metrics = json.load(f)\n",
    "\n",
    "fig, axs = plt.subplots(1,2,figsize=(12,6))\n",
    "# loss\n",
    "axs[0].plot(metrics[\"loss_train\"],label=\"train\")\n",
    "axs[0].plot(metrics[\"loss_valid\"],label=\"validation\")\n",
    "axs[0].set_yscale(\"log\")\n",
    "axs[0].set_xlabel(\"epoch\")\n",
    "axs[0].set_ylabel(\"cross-entropy loss\")\n",
    "axs[0].legend(loc=\"upper right\")\n",
    "axs[1].set_ylim(0,1)\n",
    "axs[1].plot(metrics[\"acc_train\"],label=\"train\")\n",
    "axs[1].plot(metrics[\"acc_valid\"],label=\"validation\")\n",
    "axs[1].plot([0,len(metrics[\"acc_train\"])],[0.1,0.1],color=\"black\",linestyle=\"--\",label=\"random guess\")\n",
    "axs[1].set_xlabel(\"epoch\")\n",
    "axs[1].set_ylabel(\"accuracy\")\n",
    "axs[1].legend(loc=\"upper left\")"
   ]
  },
  {
   "attachments": {},
   "cell_type": "markdown",
   "id": "8ad03a96",
   "metadata": {},
   "source": [
    "## Evaluate network on test data\n",
    "Compute the accuracy on the training dataset. To load the weights from a different file, edit the filename."
   ]
  },
  {
   "cell_type": "code",
   "execution_count": 8,
   "id": "cb892af5",
   "metadata": {},
   "outputs": [
    {
     "name": "stdout",
     "output_type": "stream",
     "text": [
      "Test accuracy = 81.83%\n"
     ]
    }
   ],
   "source": [
    "# Test model performance on test data\n",
    "with open(\"weights_19Dec2022.npy\", \"rb\") as f:\n",
    "    params = pickle.load(f)\n",
    "\n",
    "rngkey = jax.random.PRNGKey(seed=37)\n",
    "test_state = dict(rngkey=rngkey, train=False)\n",
    "\n",
    "test_images, test_labels = dataset_loader.get_test_data()\n",
    "n_batch = 10 # Split into batches since the model does not fit into memory for the entire test data\n",
    "n_total = 0\n",
    "n_correct = 0\n",
    "for images, labels in zip(jnp.split(test_images,n_batch),jnp.split(test_labels,n_batch)):\n",
    "    y_pred = resnet_model(params, test_state, images)\n",
    "    n_total += labels.shape[0]\n",
    "    n_correct += jnp.sum(1 * (jnp.argmax(jax.nn.softmax(y_pred), axis=-1) == labels))\n",
    "print (f\"Test accuracy = {(100*n_correct/n_total):4.2f}%\")"
   ]
  }
 ],
 "metadata": {
  "kernelspec": {
   "display_name": "Python 3.9.16 64-bit",
   "language": "python",
   "name": "python3"
  },
  "language_info": {
   "codemirror_mode": {
    "name": "ipython",
    "version": 3
   },
   "file_extension": ".py",
   "mimetype": "text/x-python",
   "name": "python",
   "nbconvert_exporter": "python",
   "pygments_lexer": "ipython3",
   "version": "3.9.16 (main, Dec  7 2022, 10:15:43) \n[Clang 14.0.0 (clang-1400.0.29.202)]"
  },
  "vscode": {
   "interpreter": {
    "hash": "397704579725e15f5c7cb49fe5f0341eb7531c82d19f2c29d197e8b64ab5776b"
   }
  }
 },
 "nbformat": 4,
 "nbformat_minor": 5
}
